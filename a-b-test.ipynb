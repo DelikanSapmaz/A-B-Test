{
 "cells": [
  {
   "cell_type": "markdown",
   "id": "7b0f29e1",
   "metadata": {
    "_cell_guid": "b1076dfc-b9ad-4769-8c92-a6c4dae69d19",
    "_uuid": "8f2839f25d086af736a60e9eeb907d3b93b6e0e5",
    "execution": {
     "iopub.execute_input": "2023-11-02T17:13:26.172045Z",
     "iopub.status.busy": "2023-11-02T17:13:26.171637Z",
     "iopub.status.idle": "2023-11-02T17:13:26.177966Z",
     "shell.execute_reply": "2023-11-02T17:13:26.176384Z",
     "shell.execute_reply.started": "2023-11-02T17:13:26.172014Z"
    },
    "papermill": {
     "duration": 0.007716,
     "end_time": "2023-11-02T17:54:45.247461",
     "exception": false,
     "start_time": "2023-11-02T17:54:45.239745",
     "status": "completed"
    },
    "tags": []
   },
   "source": [
    "# Import libraries"
   ]
  },
  {
   "cell_type": "code",
   "execution_count": 1,
   "id": "6132874a",
   "metadata": {
    "execution": {
     "iopub.execute_input": "2023-11-02T17:54:45.260211Z",
     "iopub.status.busy": "2023-11-02T17:54:45.259703Z",
     "iopub.status.idle": "2023-11-02T17:54:47.558221Z",
     "shell.execute_reply": "2023-11-02T17:54:47.557166Z"
    },
    "papermill": {
     "duration": 2.307995,
     "end_time": "2023-11-02T17:54:47.560734",
     "exception": false,
     "start_time": "2023-11-02T17:54:45.252739",
     "status": "completed"
    },
    "tags": []
   },
   "outputs": [],
   "source": [
    "import itertools\n",
    "import numpy as np\n",
    "import pandas as pd\n",
    "import matplotlib.pyplot as plt\n",
    "import seaborn as sns\n",
    "# !pip install statsmodels\n",
    "import statsmodels.stats.api as sms\n",
    "from scipy.stats import ttest_1samp, shapiro, levene, ttest_ind, mannwhitneyu, \\\n",
    "    pearsonr, spearmanr, kendalltau, f_oneway, kruskal\n",
    "from statsmodels.stats.proportion import proportions_ztest\n",
    "import warnings\n",
    "warnings.filterwarnings(\"ignore\")"
   ]
  },
  {
   "cell_type": "code",
   "execution_count": 2,
   "id": "96964f8d",
   "metadata": {
    "execution": {
     "iopub.execute_input": "2023-11-02T17:54:47.574610Z",
     "iopub.status.busy": "2023-11-02T17:54:47.573228Z",
     "iopub.status.idle": "2023-11-02T17:54:47.579068Z",
     "shell.execute_reply": "2023-11-02T17:54:47.578078Z"
    },
    "papermill": {
     "duration": 0.015226,
     "end_time": "2023-11-02T17:54:47.581364",
     "exception": false,
     "start_time": "2023-11-02T17:54:47.566138",
     "status": "completed"
    },
    "tags": []
   },
   "outputs": [],
   "source": [
    "pd.set_option('display.max_columns',None)\n",
    "pd.set_option('display.max_rows',10)\n",
    "pd.set_option('display.float_format',lambda x: '%5f' %x)"
   ]
  },
  {
   "cell_type": "markdown",
   "id": "eb876a24",
   "metadata": {
    "papermill": {
     "duration": 0.004732,
     "end_time": "2023-11-02T17:54:47.591223",
     "exception": false,
     "start_time": "2023-11-02T17:54:47.586491",
     "status": "completed"
    },
    "tags": []
   },
   "source": [
    "# Preparing and Analyzing Data"
   ]
  },
  {
   "cell_type": "code",
   "execution_count": 3,
   "id": "447c31cb",
   "metadata": {
    "execution": {
     "iopub.execute_input": "2023-11-02T17:54:47.603459Z",
     "iopub.status.busy": "2023-11-02T17:54:47.603056Z",
     "iopub.status.idle": "2023-11-02T17:54:47.630938Z",
     "shell.execute_reply": "2023-11-02T17:54:47.629879Z"
    },
    "papermill": {
     "duration": 0.036814,
     "end_time": "2023-11-02T17:54:47.633431",
     "exception": false,
     "start_time": "2023-11-02T17:54:47.596617",
     "status": "completed"
    },
    "tags": []
   },
   "outputs": [],
   "source": [
    "df_ = pd.read_csv(\"/kaggle/input/ab-test-data/AB_Test_Results.csv\")"
   ]
  },
  {
   "cell_type": "code",
   "execution_count": 4,
   "id": "5a4f5006",
   "metadata": {
    "execution": {
     "iopub.execute_input": "2023-11-02T17:54:47.645455Z",
     "iopub.status.busy": "2023-11-02T17:54:47.645000Z",
     "iopub.status.idle": "2023-11-02T17:54:47.650438Z",
     "shell.execute_reply": "2023-11-02T17:54:47.649139Z"
    },
    "papermill": {
     "duration": 0.014179,
     "end_time": "2023-11-02T17:54:47.652742",
     "exception": false,
     "start_time": "2023-11-02T17:54:47.638563",
     "status": "completed"
    },
    "tags": []
   },
   "outputs": [],
   "source": [
    "df = df_.copy()"
   ]
  },
  {
   "cell_type": "code",
   "execution_count": 5,
   "id": "55b09e78",
   "metadata": {
    "execution": {
     "iopub.execute_input": "2023-11-02T17:54:47.665101Z",
     "iopub.status.busy": "2023-11-02T17:54:47.664270Z",
     "iopub.status.idle": "2023-11-02T17:54:47.686614Z",
     "shell.execute_reply": "2023-11-02T17:54:47.685436Z"
    },
    "papermill": {
     "duration": 0.031233,
     "end_time": "2023-11-02T17:54:47.689204",
     "exception": false,
     "start_time": "2023-11-02T17:54:47.657971",
     "status": "completed"
    },
    "tags": []
   },
   "outputs": [
    {
     "data": {
      "text/html": [
       "<div>\n",
       "<style scoped>\n",
       "    .dataframe tbody tr th:only-of-type {\n",
       "        vertical-align: middle;\n",
       "    }\n",
       "\n",
       "    .dataframe tbody tr th {\n",
       "        vertical-align: top;\n",
       "    }\n",
       "\n",
       "    .dataframe thead th {\n",
       "        text-align: right;\n",
       "    }\n",
       "</style>\n",
       "<table border=\"1\" class=\"dataframe\">\n",
       "  <thead>\n",
       "    <tr style=\"text-align: right;\">\n",
       "      <th></th>\n",
       "      <th>USER_ID</th>\n",
       "      <th>VARIANT_NAME</th>\n",
       "      <th>REVENUE</th>\n",
       "    </tr>\n",
       "  </thead>\n",
       "  <tbody>\n",
       "    <tr>\n",
       "      <th>0</th>\n",
       "      <td>737</td>\n",
       "      <td>variant</td>\n",
       "      <td>0.000000</td>\n",
       "    </tr>\n",
       "    <tr>\n",
       "      <th>1</th>\n",
       "      <td>2423</td>\n",
       "      <td>control</td>\n",
       "      <td>0.000000</td>\n",
       "    </tr>\n",
       "    <tr>\n",
       "      <th>2</th>\n",
       "      <td>9411</td>\n",
       "      <td>control</td>\n",
       "      <td>0.000000</td>\n",
       "    </tr>\n",
       "    <tr>\n",
       "      <th>3</th>\n",
       "      <td>7311</td>\n",
       "      <td>control</td>\n",
       "      <td>0.000000</td>\n",
       "    </tr>\n",
       "    <tr>\n",
       "      <th>4</th>\n",
       "      <td>6174</td>\n",
       "      <td>variant</td>\n",
       "      <td>0.000000</td>\n",
       "    </tr>\n",
       "  </tbody>\n",
       "</table>\n",
       "</div>"
      ],
      "text/plain": [
       "   USER_ID VARIANT_NAME  REVENUE\n",
       "0      737      variant 0.000000\n",
       "1     2423      control 0.000000\n",
       "2     9411      control 0.000000\n",
       "3     7311      control 0.000000\n",
       "4     6174      variant 0.000000"
      ]
     },
     "execution_count": 5,
     "metadata": {},
     "output_type": "execute_result"
    }
   ],
   "source": [
    "df.head()"
   ]
  },
  {
   "cell_type": "code",
   "execution_count": 6,
   "id": "0d240d9b",
   "metadata": {
    "execution": {
     "iopub.execute_input": "2023-11-02T17:54:47.702096Z",
     "iopub.status.busy": "2023-11-02T17:54:47.701663Z",
     "iopub.status.idle": "2023-11-02T17:54:47.726961Z",
     "shell.execute_reply": "2023-11-02T17:54:47.726045Z"
    },
    "papermill": {
     "duration": 0.034648,
     "end_time": "2023-11-02T17:54:47.729259",
     "exception": false,
     "start_time": "2023-11-02T17:54:47.694611",
     "status": "completed"
    },
    "tags": []
   },
   "outputs": [
    {
     "data": {
      "text/html": [
       "<div>\n",
       "<style scoped>\n",
       "    .dataframe tbody tr th:only-of-type {\n",
       "        vertical-align: middle;\n",
       "    }\n",
       "\n",
       "    .dataframe tbody tr th {\n",
       "        vertical-align: top;\n",
       "    }\n",
       "\n",
       "    .dataframe thead th {\n",
       "        text-align: right;\n",
       "    }\n",
       "</style>\n",
       "<table border=\"1\" class=\"dataframe\">\n",
       "  <thead>\n",
       "    <tr style=\"text-align: right;\">\n",
       "      <th></th>\n",
       "      <th>count</th>\n",
       "      <th>mean</th>\n",
       "      <th>std</th>\n",
       "      <th>min</th>\n",
       "      <th>25%</th>\n",
       "      <th>50%</th>\n",
       "      <th>75%</th>\n",
       "      <th>max</th>\n",
       "    </tr>\n",
       "  </thead>\n",
       "  <tbody>\n",
       "    <tr>\n",
       "      <th>USER_ID</th>\n",
       "      <td>10000.000000</td>\n",
       "      <td>4981.080200</td>\n",
       "      <td>2890.590115</td>\n",
       "      <td>2.000000</td>\n",
       "      <td>2468.750000</td>\n",
       "      <td>4962.000000</td>\n",
       "      <td>7511.500000</td>\n",
       "      <td>10000.000000</td>\n",
       "    </tr>\n",
       "    <tr>\n",
       "      <th>REVENUE</th>\n",
       "      <td>10000.000000</td>\n",
       "      <td>0.099447</td>\n",
       "      <td>2.318529</td>\n",
       "      <td>0.000000</td>\n",
       "      <td>0.000000</td>\n",
       "      <td>0.000000</td>\n",
       "      <td>0.000000</td>\n",
       "      <td>196.010000</td>\n",
       "    </tr>\n",
       "  </tbody>\n",
       "</table>\n",
       "</div>"
      ],
      "text/plain": [
       "               count        mean         std      min         25%         50%  \\\n",
       "USER_ID 10000.000000 4981.080200 2890.590115 2.000000 2468.750000 4962.000000   \n",
       "REVENUE 10000.000000    0.099447    2.318529 0.000000    0.000000    0.000000   \n",
       "\n",
       "                75%          max  \n",
       "USER_ID 7511.500000 10000.000000  \n",
       "REVENUE    0.000000   196.010000  "
      ]
     },
     "execution_count": 6,
     "metadata": {},
     "output_type": "execute_result"
    }
   ],
   "source": [
    "df.describe().T"
   ]
  },
  {
   "cell_type": "code",
   "execution_count": 7,
   "id": "d3b789ab",
   "metadata": {
    "execution": {
     "iopub.execute_input": "2023-11-02T17:54:47.742164Z",
     "iopub.status.busy": "2023-11-02T17:54:47.741516Z",
     "iopub.status.idle": "2023-11-02T17:54:47.747951Z",
     "shell.execute_reply": "2023-11-02T17:54:47.747122Z"
    },
    "papermill": {
     "duration": 0.015422,
     "end_time": "2023-11-02T17:54:47.750019",
     "exception": false,
     "start_time": "2023-11-02T17:54:47.734597",
     "status": "completed"
    },
    "tags": []
   },
   "outputs": [
    {
     "data": {
      "text/plain": [
       "(10000, 3)"
      ]
     },
     "execution_count": 7,
     "metadata": {},
     "output_type": "execute_result"
    }
   ],
   "source": [
    "df.shape"
   ]
  },
  {
   "cell_type": "code",
   "execution_count": 8,
   "id": "d003da34",
   "metadata": {
    "execution": {
     "iopub.execute_input": "2023-11-02T17:54:47.763190Z",
     "iopub.status.busy": "2023-11-02T17:54:47.762423Z",
     "iopub.status.idle": "2023-11-02T17:54:47.772925Z",
     "shell.execute_reply": "2023-11-02T17:54:47.771579Z"
    },
    "papermill": {
     "duration": 0.020804,
     "end_time": "2023-11-02T17:54:47.776309",
     "exception": false,
     "start_time": "2023-11-02T17:54:47.755505",
     "status": "completed"
    },
    "tags": []
   },
   "outputs": [],
   "source": [
    "control = df.loc[df[\"VARIANT_NAME\"]==\"control\"]"
   ]
  },
  {
   "cell_type": "code",
   "execution_count": 9,
   "id": "43d3bb7d",
   "metadata": {
    "execution": {
     "iopub.execute_input": "2023-11-02T17:54:47.790027Z",
     "iopub.status.busy": "2023-11-02T17:54:47.788974Z",
     "iopub.status.idle": "2023-11-02T17:54:47.796481Z",
     "shell.execute_reply": "2023-11-02T17:54:47.795588Z"
    },
    "papermill": {
     "duration": 0.016893,
     "end_time": "2023-11-02T17:54:47.798872",
     "exception": false,
     "start_time": "2023-11-02T17:54:47.781979",
     "status": "completed"
    },
    "tags": []
   },
   "outputs": [],
   "source": [
    "test = df.loc[df[\"VARIANT_NAME\"]==\"variant\"]"
   ]
  },
  {
   "cell_type": "markdown",
   "id": "3c3295b4",
   "metadata": {
    "papermill": {
     "duration": 0.005163,
     "end_time": "2023-11-02T17:54:47.809463",
     "exception": false,
     "start_time": "2023-11-02T17:54:47.804300",
     "status": "completed"
    },
    "tags": []
   },
   "source": [
    "## Step 1 - Formulate Hypotheses:\n",
    "\n",
    "* Null Hypothesis (H0): μ1 = μ2 (There is no statistically significant difference in terms of revenue between the Control and Variant Groups)\n",
    "* Alternative Hypothesis (H1): μ1 ≠ μ2 (There is a statistically significant difference between the Control and Variant Groups in terms of revenue)\n",
    "\n",
    "## Step 2 - Assumption Checks:\n",
    "\n",
    "* Normality Assumption\n",
    "* Homogeneity of Variance\n",
    "\n",
    "## Step 3 - Normality Assumption Hypothesis:\n",
    "\n",
    "* H0: The normal distribution assumption is satisfied.\n",
    "* H1: The normal distribution assumption is violated.\n",
    "\n",
    "## Step 4 - Assumption of Homogeneity of Variance:\n",
    "\n",
    "* H0: Variances are homogenous.\n",
    "* H1: Variances are not homogenous."
   ]
  },
  {
   "cell_type": "markdown",
   "id": "db1c443f",
   "metadata": {
    "papermill": {
     "duration": 0.005149,
     "end_time": "2023-11-02T17:54:47.819987",
     "exception": false,
     "start_time": "2023-11-02T17:54:47.814838",
     "status": "completed"
    },
    "tags": []
   },
   "source": [
    "## Normality Assumption"
   ]
  },
  {
   "cell_type": "markdown",
   "id": "a332df76",
   "metadata": {
    "papermill": {
     "duration": 0.005099,
     "end_time": "2023-11-02T17:54:47.830631",
     "exception": false,
     "start_time": "2023-11-02T17:54:47.825532",
     "status": "completed"
    },
    "tags": []
   },
   "source": [
    "### The hypothesis regarding the normality assumption is as follows:\n",
    "\n",
    "* H0: The normal distribution assumption holds.\n",
    "* H1: The normal distribution assumption is not met.\""
   ]
  },
  {
   "cell_type": "code",
   "execution_count": 10,
   "id": "2bfc4374",
   "metadata": {
    "execution": {
     "iopub.execute_input": "2023-11-02T17:54:47.843731Z",
     "iopub.status.busy": "2023-11-02T17:54:47.843011Z",
     "iopub.status.idle": "2023-11-02T17:54:47.850124Z",
     "shell.execute_reply": "2023-11-02T17:54:47.849049Z"
    },
    "papermill": {
     "duration": 0.016503,
     "end_time": "2023-11-02T17:54:47.852496",
     "exception": false,
     "start_time": "2023-11-02T17:54:47.835993",
     "status": "completed"
    },
    "tags": []
   },
   "outputs": [
    {
     "name": "stdout",
     "output_type": "stream",
     "text": [
      "Test Stat=0.0183,p-value=0.0000\n"
     ]
    }
   ],
   "source": [
    "test_stat,p_value = shapiro(control[\"REVENUE\"])\n",
    "print('Test Stat=%.4f,p-value=%.4f'%(test_stat,p_value))"
   ]
  },
  {
   "cell_type": "markdown",
   "id": "b14425e1",
   "metadata": {
    "papermill": {
     "duration": 0.005494,
     "end_time": "2023-11-02T17:54:47.863519",
     "exception": false,
     "start_time": "2023-11-02T17:54:47.858025",
     "status": "completed"
    },
    "tags": []
   },
   "source": [
    "### Notes:\n",
    "\n",
    "### If the p-value is less than 0.05, we reject the null hypothesis (H0)"
   ]
  },
  {
   "cell_type": "code",
   "execution_count": 11,
   "id": "cfc87338",
   "metadata": {
    "execution": {
     "iopub.execute_input": "2023-11-02T17:54:47.876346Z",
     "iopub.status.busy": "2023-11-02T17:54:47.875926Z",
     "iopub.status.idle": "2023-11-02T17:54:47.882783Z",
     "shell.execute_reply": "2023-11-02T17:54:47.881497Z"
    },
    "papermill": {
     "duration": 0.015901,
     "end_time": "2023-11-02T17:54:47.884934",
     "exception": false,
     "start_time": "2023-11-02T17:54:47.869033",
     "status": "completed"
    },
    "tags": []
   },
   "outputs": [
    {
     "name": "stdout",
     "output_type": "stream",
     "text": [
      "Test Stat=0.0270,p-value=0.0000\n"
     ]
    }
   ],
   "source": [
    "test_stat,p_value = shapiro(test[\"REVENUE\"])\n",
    "print('Test Stat=%.4f,p-value=%.4f'%(test_stat,p_value))"
   ]
  },
  {
   "cell_type": "markdown",
   "id": "b604bf06",
   "metadata": {
    "papermill": {
     "duration": 0.00528,
     "end_time": "2023-11-02T17:54:47.895828",
     "exception": false,
     "start_time": "2023-11-02T17:54:47.890548",
     "status": "completed"
    },
    "tags": []
   },
   "source": [
    "## Normality Assumption Result \n",
    "\n",
    "### H0 has been rejected, indicating that the data does not follow a normal distribution. As a result, there is no need to assess the homogeneity of variances. We can proceed directly to non-parametric statistical analysis, specifically the Mann-Whitney test"
   ]
  },
  {
   "cell_type": "markdown",
   "id": "96d4d264",
   "metadata": {
    "papermill": {
     "duration": 0.005515,
     "end_time": "2023-11-02T17:54:47.907068",
     "exception": false,
     "start_time": "2023-11-02T17:54:47.901553",
     "status": "completed"
    },
    "tags": []
   },
   "source": [
    "### Non-parametric Test"
   ]
  },
  {
   "cell_type": "code",
   "execution_count": 12,
   "id": "140d19e8",
   "metadata": {
    "execution": {
     "iopub.execute_input": "2023-11-02T17:54:47.923902Z",
     "iopub.status.busy": "2023-11-02T17:54:47.922194Z",
     "iopub.status.idle": "2023-11-02T17:54:47.944610Z",
     "shell.execute_reply": "2023-11-02T17:54:47.943676Z"
    },
    "papermill": {
     "duration": 0.034768,
     "end_time": "2023-11-02T17:54:47.947618",
     "exception": false,
     "start_time": "2023-11-02T17:54:47.912850",
     "status": "completed"
    },
    "tags": []
   },
   "outputs": [
    {
     "name": "stdout",
     "output_type": "stream",
     "text": [
      "Test stat = 12521564.0000,p-value=0.4783\n"
     ]
    }
   ],
   "source": [
    "test_stat,pvalue = mannwhitneyu(control[\"REVENUE\"],\n",
    "                                test['REVENUE'])\n",
    "print('Test stat = %.4f,p-value=%.4f'%(test_stat,pvalue))"
   ]
  },
  {
   "cell_type": "markdown",
   "id": "5af288ef",
   "metadata": {
    "papermill": {
     "duration": 0.007782,
     "end_time": "2023-11-02T17:54:47.963279",
     "exception": false,
     "start_time": "2023-11-02T17:54:47.955497",
     "status": "completed"
    },
    "tags": []
   },
   "source": [
    "# Result \n",
    "\n",
    "### Null Hypothesis (H0): μ1 = μ2 (There is no statistically significant difference in terms of revenue between the Control and Variant Groups)"
   ]
  },
  {
   "cell_type": "code",
   "execution_count": null,
   "id": "ed41c442",
   "metadata": {
    "papermill": {
     "duration": 0.008105,
     "end_time": "2023-11-02T17:54:47.979714",
     "exception": false,
     "start_time": "2023-11-02T17:54:47.971609",
     "status": "completed"
    },
    "tags": []
   },
   "outputs": [],
   "source": []
  }
 ],
 "metadata": {
  "kernelspec": {
   "display_name": "Python 3",
   "language": "python",
   "name": "python3"
  },
  "language_info": {
   "codemirror_mode": {
    "name": "ipython",
    "version": 3
   },
   "file_extension": ".py",
   "mimetype": "text/x-python",
   "name": "python",
   "nbconvert_exporter": "python",
   "pygments_lexer": "ipython3",
   "version": "3.10.12"
  },
  "papermill": {
   "default_parameters": {},
   "duration": 6.652946,
   "end_time": "2023-11-02T17:54:48.609171",
   "environment_variables": {},
   "exception": null,
   "input_path": "__notebook__.ipynb",
   "output_path": "__notebook__.ipynb",
   "parameters": {},
   "start_time": "2023-11-02T17:54:41.956225",
   "version": "2.4.0"
  }
 },
 "nbformat": 4,
 "nbformat_minor": 5
}
